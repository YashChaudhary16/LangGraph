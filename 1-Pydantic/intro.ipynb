{
 "cells": [
  {
   "cell_type": "markdown",
   "id": "15f8ca87",
   "metadata": {},
   "source": [
    "# Pydantic \n",
    " \n",
    "- In simple terms, it's a python library that allows us to define and validate data using a python class."
   ]
  },
  {
   "cell_type": "code",
   "execution_count": 1,
   "id": "94e448ec",
   "metadata": {},
   "outputs": [],
   "source": [
    "from pydantic import BaseModel"
   ]
  },
  {
   "cell_type": "markdown",
   "id": "a99c4f53",
   "metadata": {},
   "source": [
    "### Simple model and Data class"
   ]
  },
  {
   "cell_type": "code",
   "execution_count": 2,
   "id": "465dc87f",
   "metadata": {},
   "outputs": [],
   "source": [
    "class Employee(BaseModel):\n",
    "    name: str\n",
    "    age: int\n",
    "    city: str\n",
    "    phone: int"
   ]
  },
  {
   "cell_type": "code",
   "execution_count": 7,
   "id": "f4934ce8",
   "metadata": {},
   "outputs": [],
   "source": [
    "from dataclasses import dataclass\n",
    "\n",
    "@dataclass\n",
    "class Person():\n",
    "    name: str\n",
    "    age: int\n",
    "    city: str\n",
    "    phone: int"
   ]
  },
  {
   "cell_type": "code",
   "execution_count": null,
   "id": "39c9a3d8",
   "metadata": {},
   "outputs": [
    {
     "name": "stdout",
     "output_type": "stream",
     "text": [
      "name='Yash' age=22 city='Gandhinagar' phone=1234567890\n"
     ]
    }
   ],
   "source": [
    "yash_pydantic = Employee(name=\"Yash\", age=22, city=\"Gandhinagar\", phone=1234567890)\n",
    "print(yash_pydantic)"
   ]
  },
  {
   "cell_type": "code",
   "execution_count": 10,
   "id": "b2c485af",
   "metadata": {},
   "outputs": [
    {
     "name": "stdout",
     "output_type": "stream",
     "text": [
      "Person(name='Yash', age=22, city='Gandhinagar', phone=1234567890)\n"
     ]
    }
   ],
   "source": [
    "yash_dataclass = Person(name=\"Yash\", age=22, city=\"Gandhinagar\", phone=1234567890)\n",
    "print(yash_dataclass)"
   ]
  },
  {
   "cell_type": "markdown",
   "id": "22baff71",
   "metadata": {},
   "source": [
    "#### THEN WHAT'S THE DIFFERENCE YOU ASK....\n",
    "\n",
    "- In Pydantic, the data will be typecasted to the defined datatype on its own or throw an error, whereas in dataclass it won't get transformed to the required/defined datatype and will be represented in the entered format.\n",
    "\n",
    "- Data validation doesn't occur in dataclass."
   ]
  },
  {
   "cell_type": "code",
   "execution_count": null,
   "id": "702b1698",
   "metadata": {},
   "outputs": [
    {
     "name": "stdout",
     "output_type": "stream",
     "text": [
      "name='Harsh' age=20 city='enrfner' phone=1234567890\n"
     ]
    }
   ],
   "source": [
    "harsh_pydantic = Employee(name=\"Harsh\", age=20, city=\"enrfner\", phone=\"1234567890\")\n",
    "print(harsh_pydantic)\n",
    "\n",
    "# If the city was set to a number, it will throw an error and won't correct itself."
   ]
  },
  {
   "cell_type": "code",
   "execution_count": 16,
   "id": "b901548c",
   "metadata": {},
   "outputs": [
    {
     "data": {
      "text/plain": [
       "int"
      ]
     },
     "execution_count": 16,
     "metadata": {},
     "output_type": "execute_result"
    }
   ],
   "source": [
    "type(harsh_pydantic.phone)"
   ]
  },
  {
   "cell_type": "code",
   "execution_count": 13,
   "id": "cf8dbdb2",
   "metadata": {},
   "outputs": [
    {
     "name": "stdout",
     "output_type": "stream",
     "text": [
      "Person(name='Harsh', age=20, city='Gandhinagar', phone='1234567890')\n"
     ]
    }
   ],
   "source": [
    "harsh_dataclass = Person(name=\"Harsh\", age=20, city=\"Gandhinagar\", phone=\"1234567890\")\n",
    "print(harsh_dataclass)"
   ]
  },
  {
   "cell_type": "markdown",
   "id": "455d5a24",
   "metadata": {},
   "source": [
    "### Models with optional fields"
   ]
  },
  {
   "cell_type": "code",
   "execution_count": 20,
   "id": "4f161098",
   "metadata": {},
   "outputs": [
    {
     "name": "stdout",
     "output_type": "stream",
     "text": [
      "name='Yash' age=20 city=None\n",
      "name='Harsh' age=20 city='Gandhinagar'\n"
     ]
    }
   ],
   "source": [
    "from typing import Optional\n",
    "\n",
    "class Employee_optional(BaseModel):\n",
    "    name: str\n",
    "    age: int\n",
    "    city: Optional[str] = None\n",
    "\n",
    "yash_optional = Employee_optional(name=\"Yash\", age=20)\n",
    "harsh_optional = Employee_optional(name=\"Harsh\", age=20, city=\"Gandhinagar\")\n",
    "print(yash_optional)\n",
    "print(harsh_optional)"
   ]
  },
  {
   "cell_type": "markdown",
   "id": "3384a28c",
   "metadata": {},
   "source": [
    "#### Definition:\n",
    "\n",
    "- Optional[type]: indicates that the field can be None.\n",
    "- Default value (= None or = True) makes the field optional. \n",
    "- Required fields still must be provided.\n",
    "- Pydantic validates types even for optional fields when values are provided. "
   ]
  },
  {
   "cell_type": "code",
   "execution_count": 21,
   "id": "b1c5b795",
   "metadata": {},
   "outputs": [
    {
     "name": "stdout",
     "output_type": "stream",
     "text": [
      "2 validation errors for Employee_optional\n",
      "age\n",
      "  Input should be a valid integer, unable to parse string as an integer [type=int_parsing, input_value='Gandhinagar', input_type=str]\n",
      "    For further information visit https://errors.pydantic.dev/2.11/v/int_parsing\n",
      "city\n",
      "  Input should be a valid string [type=string_type, input_value=73485, input_type=int]\n",
      "    For further information visit https://errors.pydantic.dev/2.11/v/string_type\n"
     ]
    }
   ],
   "source": [
    "try:\n",
    "    invalid_data = Employee_optional(name=\"Yash\", age=\"Gandhinagar\", city=73485)\n",
    "except ValueError as e:\n",
    "    print(e)"
   ]
  },
  {
   "cell_type": "markdown",
   "id": "c430d202",
   "metadata": {},
   "source": [
    "### Nested models"
   ]
  },
  {
   "cell_type": "code",
   "execution_count": 30,
   "id": "1a71e35e",
   "metadata": {},
   "outputs": [
    {
     "name": "stdout",
     "output_type": "stream",
     "text": [
      "name='Yash' age=20 address=Address(street='123 Main St', city='Gandhinagar')\n"
     ]
    }
   ],
   "source": [
    "class Address(BaseModel):\n",
    "    street: str\n",
    "    city: str\n",
    "\n",
    "class Student(BaseModel):\n",
    "    name: str\n",
    "    age: int\n",
    "    address: Address\n",
    "\n",
    "student = Student(name=\"Yash\", age=20, address=Address(street=\"123 Main St\", city=\"Gandhinagar\"))\n",
    "# invalid_student = Student(name=\"Yash\", age=20, address=Address(street=\"123 Main St\", city=73485))\n",
    "print(student)"
   ]
  },
  {
   "cell_type": "code",
   "execution_count": 33,
   "id": "aca220e2",
   "metadata": {},
   "outputs": [
    {
     "name": "stdout",
     "output_type": "stream",
     "text": [
      "1 validation error for Address\n",
      "city\n",
      "  Input should be a valid string [type=string_type, input_value=73485, input_type=int]\n",
      "    For further information visit https://errors.pydantic.dev/2.11/v/string_type\n"
     ]
    }
   ],
   "source": [
    "try:\n",
    "    invalid_student = Student(name=\"Yash\", age=20, address=Address(street=\"123 Main St\", city=73485))\n",
    "except ValueError as e:\n",
    "    print(e)\n"
   ]
  },
  {
   "cell_type": "markdown",
   "id": "f8954f85",
   "metadata": {},
   "source": [
    "### Pydantic fields"
   ]
  },
  {
   "cell_type": "code",
   "execution_count": 42,
   "id": "4e7c7357",
   "metadata": {},
   "outputs": [
    {
     "name": "stdout",
     "output_type": "stream",
     "text": [
      "street_number=13 street_name='Main St' city='Gandhinagar' country='India' postal_code='123456'\n"
     ]
    }
   ],
   "source": [
    "from pydantic import BaseModel, Field\n",
    "\n",
    "class Address(BaseModel):\n",
    "    street_number: int = Field(gt=10, le=100, description=\"Street number must be between 10 and 100\"    ) # gt = greater than, le = less than or equal to\n",
    "    street_name: str = Field(min_length=3, max_length=100, description=\"Street name must be between 3 and 100 characters\") # min_length = minimum length, max_length = maximum length\n",
    "    city: str = Field(min_length=3, max_length=100, description=\"City must be between 3 and 100 characters\")\n",
    "    country: str = Field(default=\"India\", description=\"Country must be India\")\n",
    "    postal_code: str = Field(min_length=6, max_length=6, description=\"Postal code must be 6 characters\")\n",
    "\n",
    "address = Address(street_number=13, street_name=\"Main St\", city=\"Gandhinagar\", country=\"India\", postal_code=\"123456\")\n",
    "print(address)"
   ]
  },
  {
   "cell_type": "code",
   "execution_count": 43,
   "id": "084ae4e3",
   "metadata": {},
   "outputs": [
    {
     "name": "stdout",
     "output_type": "stream",
     "text": [
      "1 validation error for Address\n",
      "street_number\n",
      "  Input should be less than or equal to 100 [type=less_than_equal, input_value=123, input_type=int]\n",
      "    For further information visit https://errors.pydantic.dev/2.11/v/less_than_equal\n"
     ]
    }
   ],
   "source": [
    "try:\n",
    "    invalid_data = Address(street_number=123, street_name=\"Main St\", city=\"Gandhinagar\", country=\"India\", postal_code=\"123456\")\n",
    "    print(invalid_data)\n",
    "except ValueError as e:\n",
    "    print(e)"
   ]
  },
  {
   "cell_type": "code",
   "execution_count": 49,
   "id": "b6aed4b5",
   "metadata": {},
   "outputs": [
    {
     "name": "stdout",
     "output_type": "stream",
     "text": [
      "{'properties': {'street_number': {'description': 'Street number must be between 10 and 100', 'exclusiveMinimum': 10, 'maximum': 100, 'title': 'Street Number', 'type': 'integer'}, 'street_name': {'description': 'Street name must be between 3 and 100 characters', 'maxLength': 100, 'minLength': 3, 'title': 'Street Name', 'type': 'string'}, 'city': {'description': 'City must be between 3 and 100 characters', 'maxLength': 100, 'minLength': 3, 'title': 'City', 'type': 'string'}, 'country': {'default': 'India', 'description': 'Country must be India', 'title': 'Country', 'type': 'string'}, 'postal_code': {'description': 'Postal code must be 6 characters', 'maxLength': 6, 'minLength': 6, 'title': 'Postal Code', 'type': 'string'}}, 'required': ['street_number', 'street_name', 'city', 'postal_code'], 'title': 'Address', 'type': 'object'}\n"
     ]
    }
   ],
   "source": [
    "print(Address.model_json_schema())"
   ]
  },
  {
   "cell_type": "code",
   "execution_count": null,
   "id": "791bbac0",
   "metadata": {},
   "outputs": [],
   "source": []
  }
 ],
 "metadata": {
  "kernelspec": {
   "display_name": "Python 3",
   "language": "python",
   "name": "python3"
  },
  "language_info": {
   "codemirror_mode": {
    "name": "ipython",
    "version": 3
   },
   "file_extension": ".py",
   "mimetype": "text/x-python",
   "name": "python",
   "nbconvert_exporter": "python",
   "pygments_lexer": "ipython3",
   "version": "3.12.10"
  }
 },
 "nbformat": 4,
 "nbformat_minor": 5
}
