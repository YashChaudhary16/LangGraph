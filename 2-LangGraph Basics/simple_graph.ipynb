{
 "cells": [
  {
   "cell_type": "code",
   "execution_count": 1,
   "id": "81625c79",
   "metadata": {},
   "outputs": [],
   "source": [
    "from typing_extensions import TypedDict\n",
    "from langgraph.graph import StateGraph, START, END"
   ]
  },
  {
   "cell_type": "markdown",
   "id": "819fe86e",
   "metadata": {},
   "source": [
    "## Define State:\n",
    "\n",
    "- The \"state schema\" serves as the input schema for all nodes and edges in the graph."
   ]
  },
  {
   "cell_type": "code",
   "execution_count": 8,
   "id": "9bba224d",
   "metadata": {},
   "outputs": [],
   "source": [
    "class State(TypedDict):\n",
    "    graph_info: str"
   ]
  },
  {
   "cell_type": "code",
   "execution_count": 9,
   "id": "6aa2bb60",
   "metadata": {},
   "outputs": [],
   "source": [
    "def which_sport_to_play(state: State) -> State:\n",
    "    return {\"graph_info\": state[\"graph_info\"] + \"I am going to play...\"}\n",
    "\n",
    "def basketball_game(state: State) -> State:\n",
    "    return {\"graph_info\": state[\"graph_info\"] + \" basketball.\"}\n",
    "\n",
    "def football_game(state: State) -> State:\n",
    "    return {\"graph_info\": state[\"graph_info\"] + \" football.\"}"
   ]
  },
  {
   "cell_type": "code",
   "execution_count": 17,
   "id": "1e50b184",
   "metadata": {},
   "outputs": [],
   "source": [
    "import random\n",
    "from typing import Literal\n",
    "\n",
    "'''NOTE: The random sport should output the name of the NODE itself, nothing else. Or else the graph will not work.'''\n",
    "\n",
    "def random_sport(state: State) -> Literal[\"basketball\", \"football\"]:\n",
    "    return random.choice([\"basketball\", \"football\"])"
   ]
  },
  {
   "cell_type": "markdown",
   "id": "9916c751",
   "metadata": {},
   "source": [
    "## Creating the graph"
   ]
  },
  {
   "cell_type": "code",
   "execution_count": null,
   "id": "72f08f9b",
   "metadata": {},
   "outputs": [],
   "source": [
    "graph_builder = StateGraph(State)\n",
    "\n",
    "# Define nodes\n",
    "graph_builder.add_node(\"which_sport_to_play\", which_sport_to_play)\n",
    "graph_builder.add_node(\"basketball\", basketball_game)\n",
    "graph_builder.add_node(\"football\", football_game)\n",
    "\n",
    "# Define edges\n",
    "graph_builder.add_edge(START, \"which_sport_to_play\")\n",
    "graph_builder.add_conditional_edges(\n",
    "    \"which_sport_to_play\",\n",
    "    random_sport \n",
    ")\n",
    "graph_builder.add_edge(\"basketball\", END)\n",
    "graph_builder.add_edge(\"football\", END)\n",
    "\n",
    "# Compile the graph\n",
    "graph = graph_builder.compile()"
   ]
  },
  {
   "cell_type": "markdown",
   "id": "d11e1238",
   "metadata": {},
   "source": [
    "### Displaying the graph"
   ]
  },
  {
   "cell_type": "code",
   "execution_count": 15,
   "id": "695f8f8e",
   "metadata": {},
   "outputs": [
    {
     "data": {
      "image/png": "[encoded data removed]",
      "text/plain": [
       "<IPython.core.display.Image object>"
      ]
     },
     "metadata": {},
     "output_type": "display_data"
    }
   ],
   "source": [
    "from IPython.display import Image, display\n",
    "\n",
    "img_data = graph.get_graph().draw_mermaid_png()\n",
    "display(Image(img_data))"
   ]
  },
  {
   "cell_type": "markdown",
   "id": "a426f91b",
   "metadata": {},
   "source": [
    "### Invoking the graph"
   ]
  },
  {
   "cell_type": "code",
   "execution_count": 22,
   "id": "2d72c326",
   "metadata": {},
   "outputs": [
    {
     "name": "stdout",
     "output_type": "stream",
     "text": [
      "{'graph_info': 'Today, I am going to play... football.'}\n"
     ]
    }
   ],
   "source": [
    "# Run the graph with initial state\n",
    "result = graph.invoke({\"graph_info\": \"Today, \"})\n",
    "print(result)"
   ]
  }
 ],
 "metadata": {
  "kernelspec": {
   "display_name": "Python 3",
   "language": "python",
   "name": "python3"
  },
  "language_info": {
   "codemirror_mode": {
    "name": "ipython",
    "version": 3
   },
   "file_extension": ".py",
   "mimetype": "text/x-python",
   "name": "python",
   "nbconvert_exporter": "python",
   "pygments_lexer": "ipython3",
   "version": "3.12.10"
  }
 },
 "nbformat": 4,
 "nbformat_minor": 5
}
